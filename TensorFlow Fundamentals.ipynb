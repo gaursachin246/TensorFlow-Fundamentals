{
 "cells": [
  {
   "cell_type": "code",
   "execution_count": 18,
   "id": "c4df5ca0-8ec8-4560-8e98-da60b74c4f43",
   "metadata": {},
   "outputs": [],
   "source": [
    "#Objective: The objective of this assignment is to gain practical experience with fundamental operations\n",
    "#in TensorFlow, including creating and manipulating matrices, performing arithmetic operations on\n",
    "#tensors, and understanding the difference between TensorFlow constants and variables.\n",
    "#Part 1: Theoretical Questionk\n",
    "#Tc What are the different data structures used in Tensorflow?. Give some examplesc\n",
    "#Cc How does the TensorFlow constant differ from a TensorFlow variable? Explain with an examplec\n",
    "#=c Describe the process of matrix addition, multiplication, and element-wise operations in TensorFlow."
   ]
  },
  {
   "cell_type": "code",
   "execution_count": 20,
   "id": "9efe8ee7-0d4f-46bb-b255-a8ea46d234b8",
   "metadata": {},
   "outputs": [
    {
     "name": "stdout",
     "output_type": "stream",
     "text": [
      "tf.Tensor(\n",
      "[[1 2]\n",
      " [3 4]], shape=(2, 2), dtype=int32)\n"
     ]
    }
   ],
   "source": [
    "import tensorflow as tf\n",
    "\n",
    "# Creating a 2D tensor (matrix)\n",
    "matrix = tf.constant([[1, 2], [3, 4]])\n",
    "print(matrix)\n"
   ]
  },
  {
   "cell_type": "code",
   "execution_count": 22,
   "id": "33fdb33c-91f8-4a07-b4d2-80271a31fae5",
   "metadata": {},
   "outputs": [
    {
     "name": "stdout",
     "output_type": "stream",
     "text": [
      "<tf.Variable 'Variable:0' shape=(2, 2) dtype=int32, numpy=\n",
      "array([[5, 6],\n",
      "       [7, 8]])>\n"
     ]
    }
   ],
   "source": [
    "# Creating a variable\n",
    "variable = tf.Variable([[1, 2], [3, 4]])\n",
    "variable.assign([[5, 6], [7, 8]])  # Updating the variable\n",
    "print(variable)\n"
   ]
  },
  {
   "cell_type": "code",
   "execution_count": 24,
   "id": "da2889d0-3d01-4c63-b184-f1be7c9e9f34",
   "metadata": {},
   "outputs": [
    {
     "name": "stdout",
     "output_type": "stream",
     "text": [
      "tf.Tensor(\n",
      "[[1 2]\n",
      " [3 4]], shape=(2, 2), dtype=int32)\n"
     ]
    }
   ],
   "source": [
    "# Creating a constant\n",
    "constant = tf.constant([[1, 2], [3, 4]])\n",
    "# constant[0, 0] = 5  # This would raise an error!\n",
    "print(constant)\n"
   ]
  },
  {
   "cell_type": "code",
   "execution_count": 26,
   "id": "96aa430c-d2e5-492b-b73f-84b9dbb40471",
   "metadata": {},
   "outputs": [
    {
     "name": "stdout",
     "output_type": "stream",
     "text": [
      "<tf.Variable 'Variable:0' shape=(2, 2) dtype=int32, numpy=\n",
      "array([[5, 6],\n",
      "       [7, 8]])>\n"
     ]
    }
   ],
   "source": [
    "# Creating a variable\n",
    "variable = tf.Variable([[1, 2], [3, 4]])\n",
    "variable.assign([[5, 6], [7, 8]])  # Changing the variable's value\n",
    "print(variable)\n"
   ]
  },
  {
   "cell_type": "code",
   "execution_count": 28,
   "id": "4a0bc68b-1143-4d93-9e7c-b13a80b4e98d",
   "metadata": {},
   "outputs": [
    {
     "name": "stdout",
     "output_type": "stream",
     "text": [
      "tf.Tensor(\n",
      "[[ 6  8]\n",
      " [10 12]], shape=(2, 2), dtype=int32)\n"
     ]
    }
   ],
   "source": [
    "matrix_a = tf.constant([[1, 2], [3, 4]])\n",
    "matrix_b = tf.constant([[5, 6], [7, 8]])\n",
    "result_add = tf.add(matrix_a, matrix_b)\n",
    "print(result_add)  # Output: [[ 6  8]\n",
    "                   #          [10 12]]\n"
   ]
  },
  {
   "cell_type": "code",
   "execution_count": 30,
   "id": "7528169c-9f23-40a6-a8f6-9aa8e4e9a503",
   "metadata": {},
   "outputs": [
    {
     "name": "stdout",
     "output_type": "stream",
     "text": [
      "tf.Tensor(\n",
      "[[19 22]\n",
      " [43 50]], shape=(2, 2), dtype=int32)\n"
     ]
    }
   ],
   "source": [
    "result_mul = tf.matmul(matrix_a, matrix_b)\n",
    "print(result_mul)  # Output: [[19 22]\n",
    "                   #          [43 50]]\n"
   ]
  },
  {
   "cell_type": "code",
   "execution_count": 32,
   "id": "440779b8-14b0-4c05-9b3e-00d235e6fa61",
   "metadata": {},
   "outputs": [
    {
     "name": "stdout",
     "output_type": "stream",
     "text": [
      "tf.Tensor(\n",
      "[[ 5 12]\n",
      " [21 32]], shape=(2, 2), dtype=int32)\n"
     ]
    }
   ],
   "source": [
    "result_elem_mul = tf.multiply(matrix_a, matrix_b)\n",
    "print(result_elem_mul)  # Output: [[ 5 12]\n",
    "                         #          [21 32]]\n"
   ]
  },
  {
   "cell_type": "code",
   "execution_count": null,
   "id": "09fda21c-95eb-44c5-8d2d-d40ca924a62b",
   "metadata": {},
   "outputs": [],
   "source": []
  },
  {
   "cell_type": "code",
   "execution_count": 35,
   "id": "3fc7deec-eb94-4846-a2bf-c16401a07242",
   "metadata": {},
   "outputs": [
    {
     "name": "stdout",
     "output_type": "stream",
     "text": [
      "Matrix A:\n",
      " [[ 1.4705269   1.4338667   0.78456014]\n",
      " [-2.9998248  -1.2183839   1.6814219 ]\n",
      " [-0.2474151   0.9180344   1.4883523 ]]\n"
     ]
    }
   ],
   "source": [
    "#Part 2: Practical Implementation\n",
    "#Task 1: Creating and Manipulating MatricekTc Create a normal matrix A with dimensions 3x3, using TensorFlow's random_normal function. Display thevalues of matrix AcCc Create a Gaussian matrix B with dimensions 4x4, using TensorFlow's truncated_normal function. Displaythe values of matrix Bc=c Create a matrix C with dimensions 2x2, where the values are drawn from a normal distribution with amean of 3 and a standard deviation of 0.5, using TensorFlow's random.normal function. Display the valuesof matrix Cc~c Perform matrix addition between matrix A and matrix B, and store the result in matrix Dcwc Perform matrix multiplication between matrix C and matrix D, and store the result in matrix E.\n",
    "\n",
    "\n",
    "\n",
    "\n",
    "import tensorflow as tf\n",
    "\n",
    "# Create a normal matrix A with dimensions 3x3\n",
    "A = tf.random.normal(shape=(3, 3))\n",
    "print(\"Matrix A:\\n\", A.numpy())\n"
   ]
  },
  {
   "cell_type": "code",
   "execution_count": 37,
   "id": "6722dd9d-be8a-4c5f-a642-f6f0e8f50c94",
   "metadata": {},
   "outputs": [
    {
     "name": "stdout",
     "output_type": "stream",
     "text": [
      "Matrix B:\n",
      " [[ 0.35872424  0.9240697   0.31481153  0.29109308]\n",
      " [ 0.88402385 -0.9306751  -0.49960476  0.98910856]\n",
      " [-0.44603264  1.3499297  -0.04984836 -0.48478368]\n",
      " [-0.8730984   0.8997157   0.548015    0.8685129 ]]\n"
     ]
    }
   ],
   "source": [
    "# Create a Gaussian matrix B with dimensions 4x4\n",
    "B = tf.random.truncated_normal(shape=(4, 4))\n",
    "print(\"Matrix B:\\n\", B.numpy())\n"
   ]
  },
  {
   "cell_type": "code",
   "execution_count": 39,
   "id": "e464eb1d-ab1d-4405-9786-beb4e09cb6b5",
   "metadata": {},
   "outputs": [
    {
     "name": "stdout",
     "output_type": "stream",
     "text": [
      "Matrix C:\n",
      " [[2.6094916 2.9237618]\n",
      " [2.5550604 1.9552151]]\n"
     ]
    },
    {
     "ename": "InvalidArgumentError",
     "evalue": "{{function_node __wrapped__AddV2_device_/job:localhost/replica:0/task:0/device:CPU:0}} Incompatible shapes: [3,3] vs. [4,4] [Op:AddV2] name: ",
     "output_type": "error",
     "traceback": [
      "\u001b[1;31m---------------------------------------------------------------------------\u001b[0m",
      "\u001b[1;31mInvalidArgumentError\u001b[0m                      Traceback (most recent call last)",
      "Cell \u001b[1;32mIn[39], line 6\u001b[0m\n\u001b[0;32m      3\u001b[0m \u001b[38;5;28mprint\u001b[39m(\u001b[38;5;124m\"\u001b[39m\u001b[38;5;124mMatrix C:\u001b[39m\u001b[38;5;130;01m\\n\u001b[39;00m\u001b[38;5;124m\"\u001b[39m, C\u001b[38;5;241m.\u001b[39mnumpy())\n\u001b[0;32m      5\u001b[0m \u001b[38;5;66;03m# Perform matrix addition between A and B (ensure A and B are compatible)\u001b[39;00m\n\u001b[1;32m----> 6\u001b[0m D \u001b[38;5;241m=\u001b[39m \u001b[43mtf\u001b[49m\u001b[38;5;241;43m.\u001b[39;49m\u001b[43madd\u001b[49m\u001b[43m(\u001b[49m\u001b[43mA\u001b[49m\u001b[43m[\u001b[49m\u001b[43m:\u001b[49m\u001b[38;5;241;43m4\u001b[39;49m\u001b[43m,\u001b[49m\u001b[43m \u001b[49m\u001b[43m:\u001b[49m\u001b[38;5;241;43m4\u001b[39;49m\u001b[43m]\u001b[49m\u001b[43m,\u001b[49m\u001b[43m \u001b[49m\u001b[43mB\u001b[49m\u001b[43m)\u001b[49m  \u001b[38;5;66;03m# Adjusting A to be 4x4 for addition\u001b[39;00m\n\u001b[0;32m      7\u001b[0m \u001b[38;5;28mprint\u001b[39m(\u001b[38;5;124m\"\u001b[39m\u001b[38;5;124mMatrix D (A + B):\u001b[39m\u001b[38;5;130;01m\\n\u001b[39;00m\u001b[38;5;124m\"\u001b[39m, D\u001b[38;5;241m.\u001b[39mnumpy())\n\u001b[0;32m      9\u001b[0m \u001b[38;5;66;03m# Perform matrix multiplication between C and D\u001b[39;00m\n",
      "File \u001b[1;32m~\\anaconda3\\Lib\\site-packages\\tensorflow\\python\\ops\\weak_tensor_ops.py:142\u001b[0m, in \u001b[0;36mweak_tensor_binary_op_wrapper.<locals>.wrapper\u001b[1;34m(*args, **kwargs)\u001b[0m\n\u001b[0;32m    140\u001b[0m \u001b[38;5;28;01mdef\u001b[39;00m \u001b[38;5;21mwrapper\u001b[39m(\u001b[38;5;241m*\u001b[39margs, \u001b[38;5;241m*\u001b[39m\u001b[38;5;241m*\u001b[39mkwargs):\n\u001b[0;32m    141\u001b[0m   \u001b[38;5;28;01mif\u001b[39;00m \u001b[38;5;129;01mnot\u001b[39;00m ops\u001b[38;5;241m.\u001b[39mis_auto_dtype_conversion_enabled():\n\u001b[1;32m--> 142\u001b[0m     \u001b[38;5;28;01mreturn\u001b[39;00m \u001b[43mop\u001b[49m\u001b[43m(\u001b[49m\u001b[38;5;241;43m*\u001b[39;49m\u001b[43margs\u001b[49m\u001b[43m,\u001b[49m\u001b[43m \u001b[49m\u001b[38;5;241;43m*\u001b[39;49m\u001b[38;5;241;43m*\u001b[39;49m\u001b[43mkwargs\u001b[49m\u001b[43m)\u001b[49m\n\u001b[0;32m    143\u001b[0m   bound_arguments \u001b[38;5;241m=\u001b[39m signature\u001b[38;5;241m.\u001b[39mbind(\u001b[38;5;241m*\u001b[39margs, \u001b[38;5;241m*\u001b[39m\u001b[38;5;241m*\u001b[39mkwargs)\n\u001b[0;32m    144\u001b[0m   bound_arguments\u001b[38;5;241m.\u001b[39mapply_defaults()\n",
      "File \u001b[1;32m~\\anaconda3\\Lib\\site-packages\\tensorflow\\python\\util\\traceback_utils.py:153\u001b[0m, in \u001b[0;36mfilter_traceback.<locals>.error_handler\u001b[1;34m(*args, **kwargs)\u001b[0m\n\u001b[0;32m    151\u001b[0m \u001b[38;5;28;01mexcept\u001b[39;00m \u001b[38;5;167;01mException\u001b[39;00m \u001b[38;5;28;01mas\u001b[39;00m e:\n\u001b[0;32m    152\u001b[0m   filtered_tb \u001b[38;5;241m=\u001b[39m _process_traceback_frames(e\u001b[38;5;241m.\u001b[39m__traceback__)\n\u001b[1;32m--> 153\u001b[0m   \u001b[38;5;28;01mraise\u001b[39;00m e\u001b[38;5;241m.\u001b[39mwith_traceback(filtered_tb) \u001b[38;5;28;01mfrom\u001b[39;00m \u001b[38;5;28;01mNone\u001b[39;00m\n\u001b[0;32m    154\u001b[0m \u001b[38;5;28;01mfinally\u001b[39;00m:\n\u001b[0;32m    155\u001b[0m   \u001b[38;5;28;01mdel\u001b[39;00m filtered_tb\n",
      "File \u001b[1;32m~\\anaconda3\\Lib\\site-packages\\tensorflow\\python\\framework\\ops.py:5983\u001b[0m, in \u001b[0;36mraise_from_not_ok_status\u001b[1;34m(e, name)\u001b[0m\n\u001b[0;32m   5981\u001b[0m \u001b[38;5;28;01mdef\u001b[39;00m \u001b[38;5;21mraise_from_not_ok_status\u001b[39m(e, name) \u001b[38;5;241m-\u001b[39m\u001b[38;5;241m>\u001b[39m NoReturn:\n\u001b[0;32m   5982\u001b[0m   e\u001b[38;5;241m.\u001b[39mmessage \u001b[38;5;241m+\u001b[39m\u001b[38;5;241m=\u001b[39m (\u001b[38;5;124m\"\u001b[39m\u001b[38;5;124m name: \u001b[39m\u001b[38;5;124m\"\u001b[39m \u001b[38;5;241m+\u001b[39m \u001b[38;5;28mstr\u001b[39m(name \u001b[38;5;28;01mif\u001b[39;00m name \u001b[38;5;129;01mis\u001b[39;00m \u001b[38;5;129;01mnot\u001b[39;00m \u001b[38;5;28;01mNone\u001b[39;00m \u001b[38;5;28;01melse\u001b[39;00m \u001b[38;5;124m\"\u001b[39m\u001b[38;5;124m\"\u001b[39m))\n\u001b[1;32m-> 5983\u001b[0m   \u001b[38;5;28;01mraise\u001b[39;00m core\u001b[38;5;241m.\u001b[39m_status_to_exception(e) \u001b[38;5;28;01mfrom\u001b[39;00m \u001b[38;5;28;01mNone\u001b[39;00m\n",
      "\u001b[1;31mInvalidArgumentError\u001b[0m: {{function_node __wrapped__AddV2_device_/job:localhost/replica:0/task:0/device:CPU:0}} Incompatible shapes: [3,3] vs. [4,4] [Op:AddV2] name: "
     ]
    }
   ],
   "source": [
    "# Create a matrix C with dimensions 2x2\n",
    "C = tf.random.normal(shape=(2, 2), mean=3.0, stddev=0.5)\n",
    "print(\"Matrix C:\\n\", C.numpy())\n",
    "\n",
    "# Perform matrix addition between A and B (ensure A and B are compatible)\n",
    "D = tf.add(A[:4, :4], B)  # Adjusting A to be 4x4 for addition\n",
    "print(\"Matrix D (A + B):\\n\", D.numpy())\n",
    "\n",
    "# Perform matrix multiplication between C and D\n",
    "E = tf.matmul(C, D)\n",
    "print(\"Matrix E (C * D):\\n\", E.numpy())\n"
   ]
  },
  {
   "cell_type": "code",
   "execution_count": null,
   "id": "b721be66-08d8-4e6f-b936-e3b632d10e56",
   "metadata": {},
   "outputs": [],
   "source": []
  }
 ],
 "metadata": {
  "kernelspec": {
   "display_name": "Python 3 (ipykernel)",
   "language": "python",
   "name": "python3"
  },
  "language_info": {
   "codemirror_mode": {
    "name": "ipython",
    "version": 3
   },
   "file_extension": ".py",
   "mimetype": "text/x-python",
   "name": "python",
   "nbconvert_exporter": "python",
   "pygments_lexer": "ipython3",
   "version": "3.12.4"
  }
 },
 "nbformat": 4,
 "nbformat_minor": 5
}
